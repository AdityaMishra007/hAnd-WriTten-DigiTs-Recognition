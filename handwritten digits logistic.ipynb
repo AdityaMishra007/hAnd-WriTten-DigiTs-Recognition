{
 "cells": [
  {
   "cell_type": "code",
   "execution_count": 1,
   "id": "aebcce1d",
   "metadata": {},
   "outputs": [],
   "source": [
    "%matplotlib inline\n",
    "import matplotlib.pyplot as plt\n",
    "from sklearn.datasets import load_digits"
   ]
  },
  {
   "cell_type": "code",
   "execution_count": 3,
   "id": "8a94df02",
   "metadata": {},
   "outputs": [],
   "source": [
    "digits =load_digits()\n"
   ]
  },
  {
   "cell_type": "code",
   "execution_count": 10,
   "id": "b3b4274d",
   "metadata": {},
   "outputs": [
    {
     "data": {
      "text/plain": [
       "array([0, 1, 2, 3, 4])"
      ]
     },
     "execution_count": 10,
     "metadata": {},
     "output_type": "execute_result"
    }
   ],
   "source": [
    "digits.target[:5]"
   ]
  },
  {
   "cell_type": "code",
   "execution_count": 4,
   "id": "f22fbd55",
   "metadata": {},
   "outputs": [
    {
     "data": {
      "text/plain": [
       "<matplotlib.image.AxesImage at 0x20a569a0040>"
      ]
     },
     "execution_count": 4,
     "metadata": {},
     "output_type": "execute_result"
    },
    {
     "data": {
      "text/plain": [
       "<Figure size 432x288 with 0 Axes>"
      ]
     },
     "metadata": {},
     "output_type": "display_data"
    },
    {
     "data": {
      "image/png": "[encoded data removed]",
      "text/plain": [
       "<Figure size 288x288 with 1 Axes>"
      ]
     },
     "metadata": {
      "needs_background": "light"
     },
     "output_type": "display_data"
    }
   ],
   "source": [
    "digits.images[0]\n",
    "plt.gray()\n",
    "plt.matshow(digits.images[0])"
   ]
  },
  {
   "cell_type": "code",
   "execution_count": 6,
   "id": "3e28d9d7",
   "metadata": {},
   "outputs": [],
   "source": [
    "from sklearn.linear_model import LogisticRegression as lr"
   ]
  },
  {
   "cell_type": "raw",
   "id": "bd38faa3",
   "metadata": {},
   "source": [
    "model=lr()"
   ]
  },
  {
   "cell_type": "code",
   "execution_count": 8,
   "id": "0053332f",
   "metadata": {},
   "outputs": [
    {
     "data": {
      "text/plain": [
       "LogisticRegression()"
      ]
     },
     "execution_count": 8,
     "metadata": {},
     "output_type": "execute_result"
    }
   ],
   "source": [
    "model=lr()\n",
    "model"
   ]
  },
  {
   "cell_type": "code",
   "execution_count": 9,
   "id": "a9db315e",
   "metadata": {},
   "outputs": [],
   "source": [
    "from sklearn.model_selection import train_test_split as ts"
   ]
  },
  {
   "cell_type": "code",
   "execution_count": 11,
   "id": "3c43b847",
   "metadata": {},
   "outputs": [],
   "source": [
    "x_train,x_test,y_train,y_test=ts(digits.data,digits.target)"
   ]
  },
  {
   "cell_type": "code",
   "execution_count": 12,
   "id": "833f5113",
   "metadata": {},
   "outputs": [
    {
     "data": {
      "text/plain": [
       "1347"
      ]
     },
     "execution_count": 12,
     "metadata": {},
     "output_type": "execute_result"
    }
   ],
   "source": [
    "len(x_train)"
   ]
  },
  {
   "cell_type": "code",
   "execution_count": 13,
   "id": "efb8d3be",
   "metadata": {},
   "outputs": [
    {
     "data": {
      "text/plain": [
       "450"
      ]
     },
     "execution_count": 13,
     "metadata": {},
     "output_type": "execute_result"
    }
   ],
   "source": [
    "len(x_test)"
   ]
  },
  {
   "cell_type": "code",
   "execution_count": 14,
   "id": "adeb1afa",
   "metadata": {},
   "outputs": [
    {
     "name": "stderr",
     "output_type": "stream",
     "text": [
      "D:\\anaconda\\lib\\site-packages\\sklearn\\linear_model\\_logistic.py:763: ConvergenceWarning: lbfgs failed to converge (status=1):\n",
      "STOP: TOTAL NO. of ITERATIONS REACHED LIMIT.\n",
      "\n",
      "Increase the number of iterations (max_iter) or scale the data as shown in:\n",
      "    https://scikit-learn.org/stable/modules/preprocessing.html\n",
      "Please also refer to the documentation for alternative solver options:\n",
      "    https://scikit-learn.org/stable/modules/linear_model.html#logistic-regression\n",
      "  n_iter_i = _check_optimize_result(\n"
     ]
    },
    {
     "data": {
      "text/plain": [
       "LogisticRegression()"
      ]
     },
     "execution_count": 14,
     "metadata": {},
     "output_type": "execute_result"
    }
   ],
   "source": [
    "model.fit(x_train,y_train)"
   ]
  },
  {
   "cell_type": "code",
   "execution_count": 15,
   "id": "7232a31a",
   "metadata": {},
   "outputs": [
    {
     "data": {
      "text/plain": [
       "array([1, 8, 8, 7, 6, 5, 6, 6, 4, 0, 2, 3, 5, 7, 0, 8, 5, 6, 5, 5, 8, 3,\n",
       "       6, 8, 4, 7, 5, 7, 7, 1, 1, 9, 0, 0, 9, 6, 5, 7, 8, 2, 9, 9, 9, 3,\n",
       "       1, 0, 5, 0, 4, 3, 3, 1, 2, 8, 3, 5, 4, 9, 7, 4, 9, 5, 0, 1, 8, 1,\n",
       "       0, 4, 3, 6, 4, 0, 4, 5, 7, 6, 6, 2, 7, 9, 2, 5, 2, 9, 1, 6, 1, 7,\n",
       "       3, 6, 1, 6, 8, 8, 9, 8, 4, 1, 1, 2, 6, 1, 1, 9, 2, 0, 2, 3, 8, 1,\n",
       "       6, 7, 7, 1, 9, 8, 1, 2, 2, 3, 9, 1, 8, 5, 2, 9, 6, 2, 7, 3, 1, 5,\n",
       "       9, 2, 2, 7, 5, 5, 8, 7, 6, 7, 3, 4, 9, 9, 6, 2, 2, 4, 7, 3, 1, 6,\n",
       "       2, 9, 6, 2, 7, 1, 8, 8, 1, 3, 3, 1, 2, 0, 2, 7, 3, 6, 0, 3, 4, 5,\n",
       "       1, 9, 0, 1, 1, 0, 9, 8, 3, 2, 2, 5, 9, 6, 2, 5, 3, 1, 5, 4, 3, 3,\n",
       "       4, 5, 2, 8, 2, 2, 0, 4, 8, 3, 4, 1, 2, 6, 1, 4, 7, 8, 5, 2, 7, 6,\n",
       "       2, 5, 1, 2, 5, 5, 4, 4, 9, 0, 0, 1, 9, 7, 1, 1, 2, 7, 9, 0, 8, 9,\n",
       "       4, 4, 3, 1, 1, 6, 6, 5, 3, 8, 4, 2, 6, 8, 7, 6, 0, 4, 9, 2, 6, 0,\n",
       "       9, 5, 9, 4, 3, 1, 1, 9, 0, 3, 5, 3, 3, 2, 6, 0, 1, 8, 7, 8, 8, 6,\n",
       "       1, 0, 9, 8, 8, 2, 6, 4, 8, 0, 3, 0, 4, 7, 4, 1, 8, 0, 9, 8, 5, 2,\n",
       "       6, 2, 0, 8, 3, 5, 8, 6, 2, 2, 4, 5, 3, 4, 0, 2, 5, 8, 5, 6, 7, 4,\n",
       "       5, 4, 4, 7, 7, 3, 8, 7, 3, 0, 9, 8, 0, 4, 7, 5, 4, 5, 0, 0, 4, 7,\n",
       "       5, 6, 6, 1, 7, 1, 7, 5, 8, 5, 8, 3, 2, 8, 7, 8, 9, 7, 1, 2, 5, 5,\n",
       "       9, 5, 9, 1, 8, 4, 5, 4, 9, 5, 9, 1, 9, 1, 6, 6, 1, 8, 0, 9, 7, 2,\n",
       "       9, 5, 9, 0, 3, 8, 8, 4, 0, 3, 6, 9, 2, 2, 8, 4, 6, 1, 6, 2, 3, 7,\n",
       "       5, 8, 1, 0, 2, 6, 4, 9, 8, 4, 7, 1, 3, 9, 5, 9, 9, 0, 4, 8, 0, 8,\n",
       "       9, 1, 1, 4, 1, 9, 7, 4, 2, 6])"
      ]
     },
     "execution_count": 15,
     "metadata": {},
     "output_type": "execute_result"
    }
   ],
   "source": [
    "model.predict(x_test)"
   ]
  },
  {
   "cell_type": "code",
   "execution_count": 16,
   "id": "8be85e26",
   "metadata": {},
   "outputs": [
    {
     "data": {
      "text/plain": [
       "array([1, 8, 8, 7, 6, 5, 6, 6, 4, 0, 2, 3, 5, 7, 0, 6, 5, 6, 5, 5, 8, 3,\n",
       "       6, 8, 4, 7, 5, 7, 7, 1, 1, 9, 0, 0, 9, 6, 5, 7, 1, 2, 9, 9, 9, 3,\n",
       "       1, 0, 5, 0, 4, 3, 3, 1, 2, 8, 3, 5, 4, 9, 7, 4, 9, 5, 0, 1, 8, 1,\n",
       "       0, 4, 3, 6, 4, 0, 4, 5, 7, 6, 6, 2, 7, 9, 2, 5, 2, 9, 1, 6, 6, 7,\n",
       "       3, 6, 1, 6, 8, 8, 9, 8, 4, 5, 1, 2, 6, 1, 1, 1, 2, 0, 2, 7, 8, 1,\n",
       "       6, 7, 7, 1, 8, 9, 8, 2, 2, 3, 9, 1, 8, 5, 8, 1, 6, 0, 7, 3, 1, 5,\n",
       "       9, 2, 2, 7, 5, 5, 8, 7, 6, 7, 3, 4, 4, 9, 6, 2, 2, 4, 7, 3, 1, 6,\n",
       "       2, 9, 6, 2, 7, 1, 8, 8, 1, 3, 3, 1, 2, 0, 2, 7, 3, 6, 0, 3, 4, 5,\n",
       "       1, 9, 0, 1, 1, 0, 9, 8, 3, 2, 2, 5, 9, 6, 2, 5, 3, 1, 5, 4, 3, 3,\n",
       "       4, 5, 2, 8, 2, 2, 0, 4, 8, 3, 4, 1, 8, 6, 1, 4, 7, 8, 5, 2, 7, 6,\n",
       "       2, 5, 1, 2, 5, 5, 4, 4, 5, 0, 0, 1, 9, 7, 1, 1, 2, 7, 9, 0, 8, 9,\n",
       "       4, 4, 3, 1, 1, 6, 6, 5, 3, 8, 4, 2, 6, 8, 7, 6, 0, 4, 9, 2, 6, 0,\n",
       "       4, 5, 9, 4, 3, 1, 1, 9, 0, 3, 5, 3, 3, 2, 6, 0, 1, 8, 7, 8, 8, 6,\n",
       "       1, 0, 9, 8, 8, 2, 6, 4, 8, 0, 3, 0, 4, 7, 4, 1, 8, 0, 9, 8, 5, 2,\n",
       "       6, 2, 0, 8, 3, 5, 8, 6, 2, 2, 4, 5, 3, 4, 0, 2, 5, 8, 5, 6, 7, 4,\n",
       "       5, 4, 4, 7, 7, 9, 8, 7, 3, 0, 1, 8, 0, 4, 7, 8, 4, 5, 0, 0, 4, 7,\n",
       "       5, 6, 6, 1, 7, 1, 7, 5, 8, 5, 8, 3, 2, 8, 7, 8, 9, 7, 1, 2, 5, 5,\n",
       "       9, 5, 9, 1, 8, 4, 5, 4, 9, 5, 9, 8, 9, 1, 6, 6, 1, 8, 0, 9, 7, 2,\n",
       "       9, 7, 9, 0, 3, 8, 8, 4, 0, 3, 6, 9, 2, 2, 8, 4, 6, 1, 6, 2, 3, 7,\n",
       "       5, 8, 1, 0, 2, 6, 4, 9, 8, 4, 7, 1, 3, 9, 5, 9, 9, 0, 4, 8, 0, 8,\n",
       "       9, 1, 1, 4, 1, 9, 7, 4, 2, 6])"
      ]
     },
     "execution_count": 16,
     "metadata": {},
     "output_type": "execute_result"
    }
   ],
   "source": [
    "y_test"
   ]
  },
  {
   "cell_type": "code",
   "execution_count": 17,
   "id": "63a3fe11",
   "metadata": {},
   "outputs": [
    {
     "data": {
      "text/plain": [
       "0.9533333333333334"
      ]
     },
     "execution_count": 17,
     "metadata": {},
     "output_type": "execute_result"
    }
   ],
   "source": [
    "model.score(x_test,y_test)"
   ]
  },
  {
   "cell_type": "code",
   "execution_count": 18,
   "id": "962f30a1",
   "metadata": {},
   "outputs": [],
   "source": [
    "y_predicted=model.predict(x_test)"
   ]
  },
  {
   "cell_type": "code",
   "execution_count": 24,
   "id": "f0a6ea00",
   "metadata": {},
   "outputs": [],
   "source": [
    "from sklearn.metrics import confusion_matrix as cmx"
   ]
  },
  {
   "cell_type": "code",
   "execution_count": 25,
   "id": "66a6eb73",
   "metadata": {},
   "outputs": [
    {
     "data": {
      "text/plain": [
       "array([[38,  0,  1,  0,  0,  0,  0,  0,  0,  0],\n",
       "       [ 0, 49,  0,  0,  0,  0,  0,  0,  1,  3],\n",
       "       [ 0,  0, 46,  0,  0,  0,  0,  0,  0,  0],\n",
       "       [ 0,  0,  0, 36,  0,  0,  0,  0,  0,  0],\n",
       "       [ 0,  0,  0,  0, 44,  0,  0,  0,  0,  2],\n",
       "       [ 0,  1,  0,  0,  0, 45,  0,  0,  0,  1],\n",
       "       [ 0,  1,  0,  0,  0,  0, 43,  0,  1,  0],\n",
       "       [ 0,  0,  0,  1,  0,  1,  0, 40,  0,  0],\n",
       "       [ 0,  2,  2,  0,  0,  1,  0,  0, 47,  1],\n",
       "       [ 0,  0,  0,  1,  0,  0,  0,  0,  1, 41]], dtype=int64)"
      ]
     },
     "execution_count": 25,
     "metadata": {},
     "output_type": "execute_result"
    }
   ],
   "source": [
    "cm = cmx(y_test,y_predicted)\n",
    "cm"
   ]
  },
  {
   "cell_type": "code",
   "execution_count": 26,
   "id": "563e958e",
   "metadata": {},
   "outputs": [],
   "source": [
    "import seaborn as sn"
   ]
  },
  {
   "cell_type": "code",
   "execution_count": 27,
   "id": "32ab1514",
   "metadata": {},
   "outputs": [
    {
     "data": {
      "text/plain": [
       "Text(69.0, 0.5, 'truth')"
      ]
     },
     "execution_count": 27,
     "metadata": {},
     "output_type": "execute_result"
    },
    {
     "data": {
      "image/png": "[encoded data removed]",
      "text/plain": [
       "<Figure size 720x720 with 2 Axes>"
      ]
     },
     "metadata": {
      "needs_background": "light"
     },
     "output_type": "display_data"
    }
   ],
   "source": [
    "plt.figure(figsize =(10,10))\n",
    "sn.heatmap(cm,annot=True)\n",
    "plt.xlabel('predicted')\n",
    "plt.ylabel('truth')"
   ]
  },
  {
   "cell_type": "code",
   "execution_count": null,
   "id": "52a27a62",
   "metadata": {},
   "outputs": [],
   "source": []
  }
 ],
 "metadata": {
  "kernelspec": {
   "display_name": "Python 3 (ipykernel)",
   "language": "python",
   "name": "python3"
  },
  "language_info": {
   "codemirror_mode": {
    "name": "ipython",
    "version": 3
   },
   "file_extension": ".py",
   "mimetype": "text/x-python",
   "name": "python",
   "nbconvert_exporter": "python",
   "pygments_lexer": "ipython3",
   "version": "3.9.7"
  }
 },
 "nbformat": 4,
 "nbformat_minor": 5
}
