{
 "cells": [
  {
   "cell_type": "code",
   "execution_count": 4,
   "id": "aebcce1d",
   "metadata": {},
   "outputs": [],
   "source": [
    "%matplotlib inline\n",
    "import matplotlib.pyplot as plt\n",
    "from sklearn.datasets import load_digits"
   ]
  },
  {
   "cell_type": "code",
   "execution_count": 5,
   "id": "8a94df02",
   "metadata": {},
   "outputs": [],
   "source": [
    "digits =load_digits()\n"
   ]
  },
  {
   "cell_type": "code",
   "execution_count": 6,
   "id": "b3b4274d",
   "metadata": {},
   "outputs": [
    {
     "data": {
      "text/plain": [
       "array([0, 1, 2, 3, 4])"
      ]
     },
     "execution_count": 6,
     "metadata": {},
     "output_type": "execute_result"
    }
   ],
   "source": [
    "digits.target[:5]"
   ]
  },
  {
   "cell_type": "code",
   "execution_count": 70,
   "id": "f22fbd55",
   "metadata": {},
   "outputs": [
    {
     "ename": "AttributeError",
     "evalue": "module 'matplotlib.pyplot' has no attribute 'digits'",
     "output_type": "error",
     "traceback": [
      "\u001b[1;31m---------------------------------------------------------------------------\u001b[0m",
      "\u001b[1;31mAttributeError\u001b[0m                            Traceback (most recent call last)",
      "\u001b[1;32m~\\AppData\\Local\\Temp/ipykernel_13444/3314162593.py\u001b[0m in \u001b[0;36m<module>\u001b[1;34m\u001b[0m\n\u001b[0;32m      2\u001b[0m \u001b[0mplt\u001b[0m\u001b[1;33m.\u001b[0m\u001b[0mgray\u001b[0m\u001b[1;33m(\u001b[0m\u001b[1;33m)\u001b[0m\u001b[1;33m\u001b[0m\u001b[1;33m\u001b[0m\u001b[0m\n\u001b[0;32m      3\u001b[0m \u001b[0mplt\u001b[0m\u001b[1;33m.\u001b[0m\u001b[0mmatshow\u001b[0m\u001b[1;33m(\u001b[0m\u001b[0mdigits\u001b[0m\u001b[1;33m.\u001b[0m\u001b[0mimages\u001b[0m\u001b[1;33m[\u001b[0m\u001b[1;36m0\u001b[0m\u001b[1;33m]\u001b[0m\u001b[1;33m)\u001b[0m\u001b[1;33m\u001b[0m\u001b[1;33m\u001b[0m\u001b[0m\n\u001b[1;32m----> 4\u001b[1;33m \u001b[0mplt\u001b[0m\u001b[1;33m.\u001b[0m\u001b[0mdigits\u001b[0m\u001b[1;33m.\u001b[0m\u001b[0mdata\u001b[0m\u001b[1;33m\u001b[0m\u001b[1;33m\u001b[0m\u001b[0m\n\u001b[0m",
      "\u001b[1;31mAttributeError\u001b[0m: module 'matplotlib.pyplot' has no attribute 'digits'"
     ]
    },
    {
     "data": {
      "text/plain": [
       "<Figure size 432x288 with 0 Axes>"
      ]
     },
     "metadata": {},
     "output_type": "display_data"
    },
    {
     "data": {
      "image/png": "[encoded data removed]",
      "text/plain": [
       "<Figure size 288x288 with 1 Axes>"
      ]
     },
     "metadata": {
      "needs_background": "light"
     },
     "output_type": "display_data"
    }
   ],
   "source": [
    "digits.images[0]\n",
    "plt.gray()\n",
    "plt.matshow(digits.images[0])\n",
    "plt.digits.data"
   ]
  },
  {
   "cell_type": "code",
   "execution_count": 8,
   "id": "3e28d9d7",
   "metadata": {},
   "outputs": [],
   "source": [
    "from sklearn.linear_model import LogisticRegression as lr"
   ]
  },
  {
   "cell_type": "raw",
   "id": "bd38faa3",
   "metadata": {},
   "source": [
    "model=lr()"
   ]
  },
  {
   "cell_type": "code",
   "execution_count": 9,
   "id": "0053332f",
   "metadata": {},
   "outputs": [
    {
     "data": {
      "text/plain": [
       "LogisticRegression()"
      ]
     },
     "execution_count": 9,
     "metadata": {},
     "output_type": "execute_result"
    }
   ],
   "source": [
    "model=lr()\n",
    "model"
   ]
  },
  {
   "cell_type": "code",
   "execution_count": 10,
   "id": "a9db315e",
   "metadata": {},
   "outputs": [],
   "source": [
    "from sklearn.model_selection import train_test_split as ts"
   ]
  },
  {
   "cell_type": "code",
   "execution_count": 34,
   "id": "602b0a65",
   "metadata": {},
   "outputs": [
    {
     "ename": "AttributeError",
     "evalue": "'numpy.ndarray' object has no attribute 'info'",
     "output_type": "error",
     "traceback": [
      "\u001b[1;31m---------------------------------------------------------------------------\u001b[0m",
      "\u001b[1;31mAttributeError\u001b[0m                            Traceback (most recent call last)",
      "\u001b[1;32m~\\AppData\\Local\\Temp/ipykernel_13444/3763374872.py\u001b[0m in \u001b[0;36m<module>\u001b[1;34m\u001b[0m\n\u001b[0;32m      1\u001b[0m \u001b[0mx\u001b[0m\u001b[1;33m=\u001b[0m\u001b[0mdigits\u001b[0m\u001b[1;33m.\u001b[0m\u001b[0mdata\u001b[0m\u001b[1;33m\u001b[0m\u001b[1;33m\u001b[0m\u001b[0m\n\u001b[1;32m----> 2\u001b[1;33m \u001b[0mx\u001b[0m\u001b[1;33m.\u001b[0m\u001b[0minfo\u001b[0m\u001b[1;33m(\u001b[0m\u001b[1;33m)\u001b[0m\u001b[1;33m\u001b[0m\u001b[1;33m\u001b[0m\u001b[0m\n\u001b[0m",
      "\u001b[1;31mAttributeError\u001b[0m: 'numpy.ndarray' object has no attribute 'info'"
     ]
    }
   ],
   "source": [
    "x=digits.data\n"
   ]
  },
  {
   "cell_type": "code",
   "execution_count": 28,
   "id": "0967df1f",
   "metadata": {},
   "outputs": [
    {
     "data": {
      "text/plain": [
       "array([0, 1, 2, ..., 8, 9, 8])"
      ]
     },
     "execution_count": 28,
     "metadata": {},
     "output_type": "execute_result"
    }
   ],
   "source": [
    "y=digits.target\n",
    "y"
   ]
  },
  {
   "cell_type": "code",
   "execution_count": 11,
   "id": "3c43b847",
   "metadata": {},
   "outputs": [],
   "source": [
    "x_train,x_test,y_train,y_test=ts(digits.data,digits.target)"
   ]
  },
  {
   "cell_type": "code",
   "execution_count": 12,
   "id": "833f5113",
   "metadata": {},
   "outputs": [
    {
     "data": {
      "text/plain": [
       "1347"
      ]
     },
     "execution_count": 12,
     "metadata": {},
     "output_type": "execute_result"
    }
   ],
   "source": [
    "len(x_train)"
   ]
  },
  {
   "cell_type": "code",
   "execution_count": 13,
   "id": "efb8d3be",
   "metadata": {},
   "outputs": [
    {
     "data": {
      "text/plain": [
       "450"
      ]
     },
     "execution_count": 13,
     "metadata": {},
     "output_type": "execute_result"
    }
   ],
   "source": [
    "len(x_test)"
   ]
  },
  {
   "cell_type": "code",
   "execution_count": 14,
   "id": "adeb1afa",
   "metadata": {},
   "outputs": [
    {
     "name": "stderr",
     "output_type": "stream",
     "text": [
      "D:\\anaconda\\lib\\site-packages\\sklearn\\linear_model\\_logistic.py:763: ConvergenceWarning: lbfgs failed to converge (status=1):\n",
      "STOP: TOTAL NO. of ITERATIONS REACHED LIMIT.\n",
      "\n",
      "Increase the number of iterations (max_iter) or scale the data as shown in:\n",
      "    https://scikit-learn.org/stable/modules/preprocessing.html\n",
      "Please also refer to the documentation for alternative solver options:\n",
      "    https://scikit-learn.org/stable/modules/linear_model.html#logistic-regression\n",
      "  n_iter_i = _check_optimize_result(\n"
     ]
    },
    {
     "data": {
      "text/plain": [
       "LogisticRegression()"
      ]
     },
     "execution_count": 14,
     "metadata": {},
     "output_type": "execute_result"
    }
   ],
   "source": [
    "model.fit(x_train,y_train)"
   ]
  },
  {
   "cell_type": "code",
   "execution_count": 15,
   "id": "7232a31a",
   "metadata": {},
   "outputs": [
    {
     "data": {
      "text/plain": [
       "array([2, 6, 6, 6, 7, 9, 3, 2, 8, 9, 9, 9, 6, 4, 7, 1, 0, 7, 0, 9, 6, 3,\n",
       "       8, 5, 7, 3, 0, 1, 0, 0, 2, 0, 5, 3, 6, 5, 4, 4, 4, 5, 9, 5, 6, 4,\n",
       "       2, 0, 2, 0, 5, 1, 7, 5, 3, 3, 6, 4, 4, 5, 6, 0, 1, 1, 7, 1, 4, 8,\n",
       "       4, 5, 9, 8, 9, 3, 3, 0, 4, 2, 3, 5, 3, 3, 3, 0, 2, 9, 8, 6, 9, 2,\n",
       "       2, 5, 8, 5, 9, 4, 3, 0, 3, 9, 8, 9, 0, 8, 0, 3, 2, 9, 4, 3, 5, 2,\n",
       "       7, 6, 3, 7, 4, 8, 4, 9, 9, 7, 5, 2, 5, 3, 1, 5, 5, 8, 2, 3, 3, 0,\n",
       "       2, 5, 9, 0, 7, 9, 6, 5, 3, 8, 5, 3, 0, 2, 8, 9, 4, 0, 6, 4, 5, 2,\n",
       "       1, 3, 3, 3, 9, 4, 3, 6, 7, 1, 8, 4, 7, 5, 7, 5, 2, 9, 1, 4, 4, 0,\n",
       "       6, 1, 0, 0, 2, 2, 9, 3, 5, 5, 5, 8, 0, 2, 3, 2, 5, 1, 1, 1, 5, 6,\n",
       "       0, 8, 1, 9, 1, 9, 8, 1, 3, 4, 4, 3, 1, 0, 4, 0, 3, 7, 6, 8, 1, 2,\n",
       "       6, 5, 1, 5, 9, 4, 7, 6, 1, 0, 8, 8, 8, 0, 7, 2, 5, 8, 9, 5, 5, 5,\n",
       "       8, 4, 5, 3, 2, 9, 2, 8, 6, 9, 0, 7, 3, 8, 8, 3, 1, 2, 6, 1, 4, 9,\n",
       "       0, 5, 5, 0, 7, 3, 5, 1, 6, 7, 2, 4, 9, 2, 9, 8, 0, 4, 8, 8, 2, 2,\n",
       "       2, 7, 6, 2, 1, 7, 4, 4, 9, 7, 9, 2, 8, 3, 5, 5, 0, 3, 5, 9, 9, 7,\n",
       "       9, 4, 4, 6, 9, 4, 6, 2, 5, 5, 3, 5, 1, 2, 9, 6, 3, 2, 5, 3, 1, 6,\n",
       "       6, 6, 8, 4, 1, 1, 3, 5, 2, 4, 5, 9, 0, 9, 4, 3, 3, 2, 2, 5, 8, 0,\n",
       "       0, 2, 0, 8, 2, 8, 8, 8, 4, 1, 3, 6, 1, 2, 5, 9, 0, 7, 8, 6, 5, 7,\n",
       "       9, 8, 9, 5, 0, 2, 6, 6, 7, 6, 1, 2, 8, 8, 9, 9, 9, 8, 2, 5, 0, 4,\n",
       "       7, 4, 7, 3, 6, 5, 5, 0, 8, 4, 5, 1, 4, 2, 4, 8, 5, 6, 0, 7, 7, 8,\n",
       "       3, 4, 6, 7, 0, 7, 9, 4, 9, 1, 3, 4, 4, 4, 9, 0, 1, 8, 4, 9, 0, 5,\n",
       "       3, 5, 2, 6, 2, 4, 4, 2, 7, 5])"
      ]
     },
     "execution_count": 15,
     "metadata": {},
     "output_type": "execute_result"
    }
   ],
   "source": [
    "model.predict(x_test)"
   ]
  },
  {
   "cell_type": "code",
   "execution_count": 16,
   "id": "8be85e26",
   "metadata": {},
   "outputs": [
    {
     "data": {
      "text/plain": [
       "array([2, 6, 6, 6, 7, 9, 3, 2, 8, 9, 9, 9, 6, 4, 7, 1, 0, 7, 0, 9, 6, 3,\n",
       "       8, 5, 7, 3, 0, 1, 0, 0, 6, 0, 5, 3, 6, 5, 4, 4, 4, 5, 9, 5, 6, 4,\n",
       "       2, 0, 2, 0, 5, 1, 7, 5, 3, 3, 6, 4, 4, 5, 6, 0, 1, 1, 7, 1, 4, 8,\n",
       "       4, 5, 9, 8, 9, 3, 3, 0, 4, 2, 3, 9, 3, 3, 3, 0, 2, 9, 6, 6, 9, 2,\n",
       "       2, 5, 8, 5, 9, 4, 3, 0, 3, 9, 8, 9, 0, 8, 0, 3, 2, 9, 4, 3, 5, 2,\n",
       "       7, 6, 3, 7, 4, 8, 4, 9, 9, 7, 5, 2, 5, 3, 1, 5, 9, 8, 2, 3, 3, 0,\n",
       "       2, 5, 9, 0, 7, 9, 6, 5, 3, 8, 5, 3, 0, 2, 8, 9, 4, 0, 6, 4, 5, 2,\n",
       "       1, 3, 3, 3, 9, 4, 5, 6, 5, 1, 8, 4, 7, 5, 7, 5, 2, 9, 1, 4, 4, 0,\n",
       "       6, 1, 0, 0, 2, 2, 9, 3, 5, 5, 8, 8, 0, 2, 3, 2, 5, 1, 1, 1, 5, 6,\n",
       "       0, 8, 1, 9, 1, 7, 8, 1, 3, 4, 4, 3, 1, 0, 4, 0, 3, 7, 6, 8, 1, 2,\n",
       "       6, 5, 1, 5, 9, 4, 7, 6, 1, 0, 8, 8, 8, 0, 7, 2, 5, 8, 9, 5, 5, 5,\n",
       "       8, 4, 5, 3, 2, 9, 2, 8, 6, 1, 0, 7, 3, 8, 8, 3, 1, 2, 6, 1, 4, 9,\n",
       "       0, 5, 5, 0, 7, 3, 5, 1, 6, 7, 2, 4, 9, 2, 9, 8, 0, 4, 8, 8, 2, 2,\n",
       "       2, 7, 6, 2, 1, 7, 4, 4, 9, 7, 9, 2, 8, 3, 5, 5, 0, 3, 5, 9, 9, 7,\n",
       "       9, 4, 4, 6, 9, 4, 6, 2, 5, 5, 3, 5, 1, 2, 9, 6, 8, 2, 5, 3, 1, 6,\n",
       "       6, 6, 8, 4, 1, 1, 3, 5, 2, 4, 5, 9, 0, 9, 4, 3, 3, 2, 2, 5, 8, 0,\n",
       "       0, 2, 0, 8, 2, 8, 8, 8, 4, 1, 3, 6, 1, 2, 5, 9, 0, 7, 8, 6, 5, 7,\n",
       "       9, 3, 9, 5, 0, 2, 6, 6, 7, 6, 1, 2, 8, 8, 3, 9, 9, 8, 2, 5, 0, 4,\n",
       "       7, 4, 7, 3, 6, 5, 5, 0, 8, 4, 5, 1, 4, 2, 4, 8, 5, 6, 0, 7, 7, 9,\n",
       "       3, 4, 6, 7, 0, 7, 9, 4, 9, 1, 3, 4, 4, 4, 9, 0, 1, 8, 4, 9, 0, 5,\n",
       "       3, 5, 2, 6, 2, 4, 4, 2, 7, 5])"
      ]
     },
     "execution_count": 16,
     "metadata": {},
     "output_type": "execute_result"
    }
   ],
   "source": [
    "y_test"
   ]
  },
  {
   "cell_type": "code",
   "execution_count": 17,
   "id": "63a3fe11",
   "metadata": {},
   "outputs": [
    {
     "data": {
      "text/plain": [
       "0.9711111111111111"
      ]
     },
     "execution_count": 17,
     "metadata": {},
     "output_type": "execute_result"
    }
   ],
   "source": [
    "model.score(x_test,y_test)"
   ]
  },
  {
   "cell_type": "code",
   "execution_count": 18,
   "id": "962f30a1",
   "metadata": {},
   "outputs": [],
   "source": [
    "y_predicted=model.predict(x_test)"
   ]
  },
  {
   "cell_type": "code",
   "execution_count": 19,
   "id": "f0a6ea00",
   "metadata": {},
   "outputs": [],
   "source": [
    "from sklearn.metrics import confusion_matrix as cmx"
   ]
  },
  {
   "cell_type": "code",
   "execution_count": 20,
   "id": "66a6eb73",
   "metadata": {},
   "outputs": [
    {
     "data": {
      "text/plain": [
       "array([[44,  0,  0,  0,  0,  0,  0,  0,  0,  0],\n",
       "       [ 0, 35,  0,  0,  0,  0,  0,  0,  0,  1],\n",
       "       [ 0,  0, 48,  0,  0,  0,  0,  0,  0,  0],\n",
       "       [ 0,  0,  0, 46,  0,  0,  0,  0,  1,  1],\n",
       "       [ 0,  0,  0,  0, 50,  0,  0,  0,  0,  0],\n",
       "       [ 0,  0,  0,  1,  0, 56,  0,  1,  0,  0],\n",
       "       [ 0,  0,  1,  0,  0,  0, 38,  0,  1,  0],\n",
       "       [ 0,  0,  0,  0,  0,  0,  0, 32,  0,  1],\n",
       "       [ 0,  0,  0,  1,  0,  1,  0,  0, 41,  0],\n",
       "       [ 0,  0,  0,  0,  0,  2,  0,  0,  1, 47]], dtype=int64)"
      ]
     },
     "execution_count": 20,
     "metadata": {},
     "output_type": "execute_result"
    }
   ],
   "source": [
    "cm = cmx(y_test,y_predicted)\n",
    "cm"
   ]
  },
  {
   "cell_type": "code",
   "execution_count": 21,
   "id": "563e958e",
   "metadata": {},
   "outputs": [],
   "source": [
    "import seaborn as sn"
   ]
  },
  {
   "cell_type": "code",
   "execution_count": 22,
   "id": "32ab1514",
   "metadata": {},
   "outputs": [
    {
     "data": {
      "text/plain": [
       "Text(69.0, 0.5, 'truth')"
      ]
     },
     "execution_count": 22,
     "metadata": {},
     "output_type": "execute_result"
    },
    {
     "data": {
      "image/png": "[encoded data removed]",
      "text/plain": [
       "<Figure size 720x720 with 2 Axes>"
      ]
     },
     "metadata": {
      "needs_background": "light"
     },
     "output_type": "display_data"
    }
   ],
   "source": [
    "plt.figure(figsize =(10,10))\n",
    "sn.heatmap(cm,annot=True)\n",
    "plt.xlabel('predicted')\n",
    "plt.ylabel('truth')"
   ]
  },
  {
   "cell_type": "code",
   "execution_count": 29,
   "id": "52a27a62",
   "metadata": {},
   "outputs": [
    {
     "data": {
      "text/plain": [
       "array([[ 0.        , -0.33501649, -0.04308102, ..., -1.14664746,\n",
       "        -0.5056698 , -0.19600752],\n",
       "       [ 0.        , -0.33501649, -1.09493684, ...,  0.54856067,\n",
       "        -0.5056698 , -0.19600752],\n",
       "       [ 0.        , -0.33501649, -1.09493684, ...,  1.56568555,\n",
       "         1.6951369 , -0.19600752],\n",
       "       ...,\n",
       "       [ 0.        , -0.33501649, -0.88456568, ..., -0.12952258,\n",
       "        -0.5056698 , -0.19600752],\n",
       "       [ 0.        , -0.33501649, -0.67419451, ...,  0.8876023 ,\n",
       "        -0.5056698 , -0.19600752],\n",
       "       [ 0.        , -0.33501649,  1.00877481, ...,  0.8876023 ,\n",
       "        -0.26113572, -0.19600752]])"
      ]
     },
     "execution_count": 29,
     "metadata": {},
     "output_type": "execute_result"
    }
   ],
   "source": [
    "from sklearn.preprocessing import StandardScaler as ss\n",
    "\n",
    "scalar=ss()\n",
    "scalar\n",
    "x_scaled=scalar.fit_transform(x)\n",
    "x_scaled\n"
   ]
  },
  {
   "cell_type": "code",
   "execution_count": 31,
   "id": "1b68449f",
   "metadata": {},
   "outputs": [],
   "source": [
    "a,b,c,d=ts(x_scaled,y)\n"
   ]
  },
  {
   "cell_type": "code",
   "execution_count": 32,
   "id": "39777187",
   "metadata": {},
   "outputs": [],
   "source": [
    "from sklearn.decomposition import PCA\n"
   ]
  },
  {
   "cell_type": "code",
   "execution_count": 60,
   "id": "44737429",
   "metadata": {},
   "outputs": [
    {
     "data": {
      "text/plain": [
       "(1797, 30)"
      ]
     },
     "execution_count": 60,
     "metadata": {},
     "output_type": "execute_result"
    }
   ],
   "source": [
    "pca=PCA(n_components=30)\n",
    "x_pca=pca.fit_transform(x)\n",
    "x_pca.shape"
   ]
  },
  {
   "cell_type": "code",
   "execution_count": 61,
   "id": "fd78b603",
   "metadata": {},
   "outputs": [
    {
     "data": {
      "text/plain": [
       "array([0.14890594, 0.13618771, 0.11794594, 0.08409979, 0.05782415,\n",
       "       0.0491691 , 0.04315987, 0.03661373, 0.03353248, 0.03078806,\n",
       "       0.02372341, 0.02272697, 0.01821863, 0.01773855, 0.01467101,\n",
       "       0.01409716, 0.01318589, 0.01248138, 0.01017718, 0.00905617,\n",
       "       0.00889536, 0.00797104, 0.00767493, 0.00722898, 0.00695889,\n",
       "       0.00595952, 0.00575608, 0.00515111, 0.004895  , 0.00428815])"
      ]
     },
     "execution_count": 61,
     "metadata": {},
     "output_type": "execute_result"
    }
   ],
   "source": [
    "pca.explained_variance_ratio_"
   ]
  },
  {
   "cell_type": "code",
   "execution_count": 62,
   "id": "f520392b",
   "metadata": {},
   "outputs": [
    {
     "data": {
      "text/plain": [
       "30"
      ]
     },
     "execution_count": 62,
     "metadata": {},
     "output_type": "execute_result"
    }
   ],
   "source": [
    "pca.n_components_"
   ]
  },
  {
   "cell_type": "code",
   "execution_count": 63,
   "id": "50ae8568",
   "metadata": {},
   "outputs": [],
   "source": [
    "x_train_pca,x_test_pca,y_train_pca,y_tesrt_pca=ts(x_pca,y)"
   ]
  },
  {
   "cell_type": "code",
   "execution_count": 64,
   "id": "4c5a4711",
   "metadata": {},
   "outputs": [
    {
     "data": {
      "text/plain": [
       "LogisticRegression(max_iter=1000)"
      ]
     },
     "execution_count": 64,
     "metadata": {},
     "output_type": "execute_result"
    }
   ],
   "source": [
    "m2=lr(max_iter=1000)\n",
    "m2.fit(x_train_pca,y_train)"
   ]
  },
  {
   "cell_type": "code",
   "execution_count": 65,
   "id": "e995dd95",
   "metadata": {},
   "outputs": [
    {
     "data": {
      "text/plain": [
       "0.07777777777777778"
      ]
     },
     "execution_count": 65,
     "metadata": {},
     "output_type": "execute_result"
    }
   ],
   "source": [
    "m2.score(x_test_pca,y_test)"
   ]
  },
  {
   "cell_type": "code",
   "execution_count": 66,
   "id": "3b5bbec1",
   "metadata": {},
   "outputs": [
    {
     "data": {
      "text/plain": [
       "0.9711111111111111"
      ]
     },
     "execution_count": 66,
     "metadata": {},
     "output_type": "execute_result"
    }
   ],
   "source": [
    "model.score(x_test,y_test)"
   ]
  },
  {
   "cell_type": "code",
   "execution_count": 67,
   "id": "6217aca9",
   "metadata": {},
   "outputs": [],
   "source": [
    "x_pca=pca.fit_transform(x)"
   ]
  },
  {
   "cell_type": "code",
   "execution_count": 68,
   "id": "d8a20153",
   "metadata": {},
   "outputs": [
    {
     "data": {
      "text/plain": [
       "(1797, 30)"
      ]
     },
     "execution_count": 68,
     "metadata": {},
     "output_type": "execute_result"
    }
   ],
   "source": [
    "x_pca.shape"
   ]
  },
  {
   "cell_type": "code",
   "execution_count": null,
   "id": "1417b21e",
   "metadata": {},
   "outputs": [],
   "source": []
  }
 ],
 "metadata": {
  "kernelspec": {
   "display_name": "Python 3 (ipykernel)",
   "language": "python",
   "name": "python3"
  },
  "language_info": {
   "codemirror_mode": {
    "name": "ipython",
    "version": 3
   },
   "file_extension": ".py",
   "mimetype": "text/x-python",
   "name": "python",
   "nbconvert_exporter": "python",
   "pygments_lexer": "ipython3",
   "version": "3.9.7"
  }
 },
 "nbformat": 4,
 "nbformat_minor": 5
}
